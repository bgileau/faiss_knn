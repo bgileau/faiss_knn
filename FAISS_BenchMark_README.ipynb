{
 "cells": [
  {
   "cell_type": "markdown",
   "metadata": {},
   "source": [
    "# KNN Component using FAISS library\n",
    "\n",
    "Faiss is a library for efficient similarity search and clustering of dense vectors. It contains algorithms that search in sets of vectors of any size, up to ones that possibly do not fit in RAM. It also contains supporting code for evaluation and parameter tuning. Faiss is written in C++ with complete wrappers for Python/numpy\n",
    "\n",
    "This KNN Component is developed with Wrapper using FAISS Python library and uses this [python wrapper API](https://github.com/shankarpm/faiss_knn/blob/master/faiss_knn.py) to train and predict models using FAISS Library. This FAISS Implementation can work in CPU and GPU Instances.\n",
    "\n",
    "Base Image of this FAISS Component uses [plippe/faiss-docker:1.4.0-gpu](https://hub.docker.com/r/plippe/faiss-docker/)\n",
    "\n",
    "More Information on FAISS can be found [here](https://github.com/facebookresearch/faiss)"
   ]
  },
  {
   "cell_type": "markdown",
   "metadata": {},
   "source": [
    "# Parameters"
   ]
  },
  {
   "cell_type": "code",
   "execution_count": 11,
   "metadata": {},
   "outputs": [
    {
     "data": {
      "text/html": [
       "<table><tr><th>Name</th><th>Argument</th><th>Description</th></tr><tr><td><b>Data</b></td><td>--data</td><td>GCS url path of input data in csv format<br>Optional: False | Default: None | Type: String</td></tr><tr><td><b>Output Data Dir</b></td><td>--output-data-dir</td><td>GCS url path for writing logs and output KPI measurements.<br>Optional: False | Default: None | Type: String</td></tr><tr><td>Training Test Split Ratio</td><td>--training-test-split-ratio</td><td>Split the training and test data sample<br>Optional: True | Default: 0.9 | Type: float</td></tr><tr><td>Test Mode</td><td>--test-mode</td><td>Get only accuracy and other kpi value during test mode for unit tests mode only - values - {accuracy}<br>Optional: True | Default:  | Type: String</td></tr><tr><td><b>K Value</b></td><td>--k-value</td><td>postive value for K in computing K nearest neighbors<br>Optional: False | Default: None | Type: Integer</td></tr></table>"
      ],
      "text/plain": [
       "<IPython.core.display.HTML object>"
      ]
     },
     "execution_count": 11,
     "metadata": {},
     "output_type": "execute_result"
    }
   ],
   "source": [
    "from ml_workflow import arguments\n",
    "from IPython.display import HTML\n",
    "\n",
    "args_metadata = arguments.get_args_metadata()\n",
    "\n",
    "header = ['Name', 'Argument', 'Description']\n",
    "rows = []\n",
    "for arg in args_metadata:\n",
    "    if arg['type'] == 'OutputPath':\n",
    "        continue\n",
    "    if type(arg['type']) == dict:\n",
    "        arg['type'] = 'Enum:' + str(arg['type']['Enum'])\n",
    "        \n",
    "    under_desc = '\\nOptional: {} | Default: {} | Type: {}'.format(\n",
    "        arg['optional'], arg['default'], arg['type']\n",
    "    )\n",
    "    arg['description'] += under_desc\n",
    "    if not arg['optional']:\n",
    "        arg['name'] = \"<b>{}</b>\".format(arg['name'])\n",
    "    row = [\n",
    "        \"{}\".format(arg['name']),\n",
    "        \"{}\".format(arg['argument']),\n",
    "        \"{}\".format(arg['description'].replace('\\n', '<br>'))\n",
    "    ]\n",
    "\n",
    "    row = '<td>{}</td>'.format('</td><td>'.join(row))\n",
    "    rows.append(row)\n",
    "    \n",
    "\n",
    "header = '<tr><th>{}</th></tr>'.format('</th><th>'.join(header))\n",
    "rows = '<tr>{}</tr>'.format('</tr><tr>'.join(rows))\n",
    "table = '<table>{}{}</table>'.format(header, rows)\n",
    "HTML(table)"
   ]
  },
  {
   "cell_type": "markdown",
   "metadata": {},
   "source": [
    "# Input\n",
    "\n",
    "The component expects an input data location from public Google Storage bucket with a csv format dataset containing feature columns and last column as feature label output.\n",
    "\n",
    "Sample Input is available in Google Storage Bucket(gs://gs-public-test-data/covtype.data_1.gz)\n",
    "\n",
    "Comonent also expects a optional split ratio number to split the input data into training and test data set. The default is 0.9\n"
   ]
  },
  {
   "cell_type": "markdown",
   "metadata": {},
   "source": [
    "# Output\n",
    "\n",
    "The Component also expects a public Google Storage bucket to save all the checkpoints , logs and KPI metrics of KNN-FAISS component. The Checkpoints and logs are saved in a separate file format (knn-faiss-output-log-20190305-050509.txt) and KPI Metrics are saved in a separate CSV File (kpi_metrics_knn-faiss-log-20190305-050509.csv).\n"
   ]
  },
  {
   "cell_type": "markdown",
   "metadata": {},
   "source": [
    "# Use Examples\n",
    "\n",
    "Below are minimalistic examples for a data use of the KNN component.\n",
    "\n",
    "### Docker data pipeline Example\n",
    "\n",
    "All pipeline components are Docker containers and can be tested in a local environment.\n",
    "\n",
    "```bash \n",
    "docker run -it gcr.io/ml-workflow1/knn \\\n",
    "    --data=gs://gs-public-test-data/covtype.data_1.gz \\\n",
    "    --k-value=5 \\\n",
    "    --training-test-split-ratio=0.8 \\\n",
    "    --output-data-dir=gs://gs-public-test-data/Logs\n",
    "```\n",
    "\n",
    "### Kubeflow Pipelines Example\n",
    "\n",
    "This code snippet creates a pipeline file. To run the pipeline, you have to upload the file to an instance of Kubeflow Pipelines using its user interface.\n",
    "\n",
    "```python\n",
    "# !pip3 install https://storage.googleapis.com/ml-pipeline/release/0.1.10/kfp.tar.gz --upgrade\n",
    "import kfp\n",
    "import kfp.dsl as dsl\n",
    "import kfp.gcp as gcp\n",
    "from kfp.components import load_component_from_file\n",
    "\n",
    "KnnOp = load_component_from_file('component.yaml')\n",
    "\n",
    "@dsl.pipeline(\n",
    "    name='Knn',\n",
    "    description='Generated')\n",
    "def knn_pipeline(\n",
    "    data=dsl.PipelineParam(name=\"Data\"),\n",
    "    output_data_dir=dsl.PipelineParam(name=\"Output Data Dir\"),\n",
    "    k_value=dsl.PipelineParam(name=\"K Value\"),\n",
    "    training_test_split_ratio=dsl.PipelineParam(name=\"Training Test Split Ratio\", value=\"0.9\"),\n",
    "    test_mode=dsl.PipelineParam(name=\"Test Mode\", value=\"\")):\n",
    "\n",
    "    knn_op = KnnOp(\n",
    "                data=data,\n",
    "        output_data_dir=output_data_dir,\n",
    "        k_value=k_value,\n",
    "        training_test_split_ratio=training_test_split_ratio,\n",
    "        test_mode=test_mode\n",
    "    ).apply(gcp.use_gcp_secret('user-gcp-sa'))\n",
    "\n",
    "if __name__ == '__main__':\n",
    "    import kfp.compiler as compiler\n",
    "    compiler.Compiler().compile(knn_pipeline, 'pipeline.tar.gz')\n",
    "```\n",
    "\n",
    "### Example assets:\n",
    "\n",
    "- Full featured [pipeline.py](pipeline.py)\n",
    "- Full featured [pipeline.tar.gz](pipeline.tar.gz)\n",
    "- [component.yaml](component.yaml)"
   ]
  },
  {
   "cell_type": "code",
   "execution_count": 47,
   "metadata": {},
   "outputs": [],
   "source": [
    "from IPython.display import HTML\n",
    "\n",
    "tab_8cpu_mac = \"\"\"\n",
    "    <h3>KNN Comparison with 581k datapoints on Mac PC (8 Core CPU)</h3> \n",
    "    <table>\n",
    "    <tr><th></th>                  <th>SkLearn ( K - 5 )</th> <th>FAISS ( K - 5 )</th>  <th>SageMaker ( K - 5 )</th></tr>\n",
    "    <tr><td>Test DataPoints</td>                <td>58k</td>   <td>58k</td>     <td>58k</td></tr>\n",
    "    <tr><td>Features</td>                       <td>54</td>     <td>54</td>       <td>54</td></tr>\n",
    "    <tr><td>Accuracy</td>                       <td>96.90%</td> <td>97.00%</td>   <td>93.80%</td></tr>\n",
    "    <tr><td>Prediction Time (secs)</td>         <td>5.73</td>     <td>42</td>        <td>26</td></tr>\n",
    "    <tr><td>Training Model Time (in secs)</td>  <td>4</td>     <td>0.08</td>      <td>186</td></tr>\n",
    "</table>\"\"\"\n",
    "\n",
    "tab_1gpu_k80 = \"\"\"\n",
    "    <h3>KNN Comparison with 2.1million datapoints on Google Compute Eng. ( 1 CPU / 1 GPU Nvidia Tesla K 80)</h3> \n",
    "    <table>\n",
    "    <tr><th></th>                  <th>SkLearn ( K - 5 )</th> <th>FAISS ( K - 5 )</th>  <th>SageMaker ( K - 5 )</th></tr>\n",
    "    <tr><td>Test DataPoints</td>                <td>200k</td>   <td>200k</td>     <td>200k</td></tr>\n",
    "    <tr><td>Features</td>                       <td>54</td>     <td>54</td>       <td>54</td></tr>\n",
    "    <tr><td>Accuracy</td>                       <td>99.20%</td> <td>99.00%</td>   <td>94.40%</td></tr>\n",
    "    <tr><td>Prediction Time (secs)</td>         <td>28</td>     <td>64</td>        <td>17.68</td></tr>\n",
    "    <tr><td>Training Model Time (in secs)</td>  <td>30</td>     <td>53.99</td>      <td>217</td></tr>\n",
    "</table>\"\"\"\n",
    "\n",
    "tab_4gpu_p100 = \"\"\"\n",
    "    <h3>KNN Comparison with 2.1million datapoints on Google Compute Eng. ( 4 CPU / 4 GPU NVIDIA Tesla P100))</h3> \n",
    "    <table>\n",
    "    <tr><th></th>                  <th>SkLearn ( K - 5 )</th> <th>FAISS ( K - 5 )</th>  <th>SageMaker ( K - 5 )</th></tr>\n",
    "    <tr><td>Test DataPoints</td>                <td>200k</td>   <td>200k</td>     <td>200k</td></tr>\n",
    "    <tr><td>Features</td>                       <td>54</td>     <td>54</td>       <td>54</td></tr>\n",
    "    <tr><td>Accuracy</td>                       <td>99.20%</td> <td>99.00%</td>   <td>90.80%</td></tr>\n",
    "    <tr><td>Prediction Time (secs)</td>         <td>22</td>     <td>7</td>        <td>17</td></tr>\n",
    "    <tr><td>Training Model Time (in secs)</td>  <td>30</td>     <td>51</td>      <td>170</td></tr>\n",
    "</table>\"\"\"\n",
    "tab_8gpu_k80 = \"\"\"\n",
    "    <h3>KNN Comparison with 2.1million datapoints on Google Compute Eng. ( 8 CPU / 8 GPU NVIDIA Tesla K80)</h3> \n",
    "    <table>\n",
    "    <tr><th></th>                  <th>SkLearn ( K - 5 )</th> <th>FAISS ( K - 5 )</th>  </tr>\n",
    "    <tr><td>Test DataPoints</td>                <td>200k</td>   <td>200k</td>     </tr>\n",
    "    <tr><td>Features</td>                       <td>54</td>     <td>54</td>       </tr>\n",
    "    <tr><td>Accuracy</td>                       <td>99.20%</td> <td>99.00%</td>  </tr>\n",
    "    <tr><td>Prediction Time (secs)</td>         <td>26</td>     <td>13</td>        </tr>\n",
    "    <tr><td>Training Model Time (in secs)</td>  <td>28</td>     <td>64</td>      </tr>\n",
    "</table>\"\"\"\n",
    "tab_8gpu_v100 = \"\"\"\n",
    "    <h3>KNN Comparison with 2.1million datapoints on Google Compute Eng. ( 8 CPU / 8 GPU NVIDIA Tesla V100)</h3> \n",
    "    <table>\n",
    "    <tr><th></th>                  <th>SkLearn ( K - 5 )</th> <th>FAISS ( K - 5 )</th>  <th>SageMaker ( K - 5 )</th></tr>\n",
    "    <tr><td>Test DataPoints</td>                <td>200k</td>   <td>200k</td>     <td>200k</td></tr>\n",
    "    <tr><td>Features</td>                       <td>54</td>     <td>54</td>       <td>54</td></tr>\n",
    "    <tr><td>Accuracy</td>                       <td>99.20%</td> <td>99.00%</td>   <td>92.60%</td></tr>\n",
    "    <tr><td>Prediction Time (secs)</td>         <td>23</td>     <td>5</td>        <td>12</td></tr>\n",
    "    <tr><td>Training Model Time (in secs)</td>  <td>27</td>     <td>163</td>      <td>81</td></tr>\n",
    "</table>\"\"\"  "
   ]
  },
  {
   "cell_type": "markdown",
   "metadata": {},
   "source": [
    "# Benchmarks\n",
    "Datasets used in the benchmarks are covtype dataset containing data for a multi-class problem with 54 features and 581k datapoints.It’s a labeled dataset where each entry describes a geographic area, and the label is a type of forest cover. There are seven possible labels, and we aim to solve the multi-class classification problem using FAISS-kNN.\n",
    " \n",
    "The below table shows the benchmarks results for KNN implementation using FAISS , SageMaker and SKLearn."
   ]
  },
  {
   "cell_type": "code",
   "execution_count": 48,
   "metadata": {},
   "outputs": [
    {
     "data": {
      "text/html": [
       "\n",
       "    <h3>KNN Comparison with 581k datapoints on Mac PC (8 Core CPU)</h3> \n",
       "    <table>\n",
       "    <tr><th></th>                  <th>SkLearn ( K - 5 )</th> <th>FAISS ( K - 5 )</th>  <th>SageMaker ( K - 5 )</th></tr>\n",
       "    <tr><td>Test DataPoints</td>                <td>58k</td>   <td>58k</td>     <td>58k</td></tr>\n",
       "    <tr><td>Features</td>                       <td>54</td>     <td>54</td>       <td>54</td></tr>\n",
       "    <tr><td>Accuracy</td>                       <td>96.90%</td> <td>97.00%</td>   <td>93.80%</td></tr>\n",
       "    <tr><td>Prediction Time (secs)</td>         <td>5.73</td>     <td>42</td>        <td>26</td></tr>\n",
       "    <tr><td>Training Model Time (in secs)</td>  <td>4</td>     <td>0.08</td>      <td>186</td></tr>\n",
       "</table>"
      ],
      "text/plain": [
       "<IPython.core.display.HTML object>"
      ]
     },
     "execution_count": 48,
     "metadata": {},
     "output_type": "execute_result"
    }
   ],
   "source": [
    "HTML(tab_8cpu_mac)"
   ]
  },
  {
   "cell_type": "code",
   "execution_count": 49,
   "metadata": {},
   "outputs": [
    {
     "data": {
      "text/html": [
       "\n",
       "    <h3>KNN Comparison with 2.1million datapoints on Google Compute Eng. ( 1 CPU / 1 GPU Nvidia Tesla K 80)</h3> \n",
       "    <table>\n",
       "    <tr><th></th>                  <th>SkLearn ( K - 5 )</th> <th>FAISS ( K - 5 )</th>  <th>SageMaker ( K - 5 )</th></tr>\n",
       "    <tr><td>Test DataPoints</td>                <td>200k</td>   <td>200k</td>     <td>200k</td></tr>\n",
       "    <tr><td>Features</td>                       <td>54</td>     <td>54</td>       <td>54</td></tr>\n",
       "    <tr><td>Accuracy</td>                       <td>99.20%</td> <td>99.00%</td>   <td>94.40%</td></tr>\n",
       "    <tr><td>Prediction Time (secs)</td>         <td>28</td>     <td>64</td>        <td>17.68</td></tr>\n",
       "    <tr><td>Training Model Time (in secs)</td>  <td>30</td>     <td>53.99</td>      <td>217</td></tr>\n",
       "</table>"
      ],
      "text/plain": [
       "<IPython.core.display.HTML object>"
      ]
     },
     "execution_count": 49,
     "metadata": {},
     "output_type": "execute_result"
    }
   ],
   "source": [
    "HTML(tab_1gpu_k80)"
   ]
  },
  {
   "cell_type": "code",
   "execution_count": 50,
   "metadata": {},
   "outputs": [
    {
     "data": {
      "text/html": [
       "\n",
       "    <h3>KNN Comparison with 2.1million datapoints on Google Compute Eng. ( 4 CPU / 4 GPU NVIDIA Tesla P100))</h3> \n",
       "    <table>\n",
       "    <tr><th></th>                  <th>SkLearn ( K - 5 )</th> <th>FAISS ( K - 5 )</th>  <th>SageMaker ( K - 5 )</th></tr>\n",
       "    <tr><td>Test DataPoints</td>                <td>200k</td>   <td>200k</td>     <td>200k</td></tr>\n",
       "    <tr><td>Features</td>                       <td>54</td>     <td>54</td>       <td>54</td></tr>\n",
       "    <tr><td>Accuracy</td>                       <td>99.20%</td> <td>99.00%</td>   <td>90.80%</td></tr>\n",
       "    <tr><td>Prediction Time (secs)</td>         <td>22</td>     <td>7</td>        <td>17</td></tr>\n",
       "    <tr><td>Training Model Time (in secs)</td>  <td>30</td>     <td>51</td>      <td>170</td></tr>\n",
       "</table>"
      ],
      "text/plain": [
       "<IPython.core.display.HTML object>"
      ]
     },
     "execution_count": 50,
     "metadata": {},
     "output_type": "execute_result"
    }
   ],
   "source": [
    "HTML(tab_4gpu_p100)"
   ]
  },
  {
   "cell_type": "code",
   "execution_count": 51,
   "metadata": {},
   "outputs": [
    {
     "data": {
      "text/html": [
       "\n",
       "    <h3>KNN Comparison with 2.1million datapoints on Google Compute Eng. ( 8 CPU / 8 GPU NVIDIA Tesla K80)</h3> \n",
       "    <table>\n",
       "    <tr><th></th>                  <th>SkLearn ( K - 5 )</th> <th>FAISS ( K - 5 )</th>  </tr>\n",
       "    <tr><td>Test DataPoints</td>                <td>200k</td>   <td>200k</td>     </tr>\n",
       "    <tr><td>Features</td>                       <td>54</td>     <td>54</td>       </tr>\n",
       "    <tr><td>Accuracy</td>                       <td>99.20%</td> <td>99.00%</td>  </tr>\n",
       "    <tr><td>Prediction Time (secs)</td>         <td>26</td>     <td>13</td>        </tr>\n",
       "    <tr><td>Training Model Time (in secs)</td>  <td>28</td>     <td>64</td>      </tr>\n",
       "</table>"
      ],
      "text/plain": [
       "<IPython.core.display.HTML object>"
      ]
     },
     "execution_count": 51,
     "metadata": {},
     "output_type": "execute_result"
    }
   ],
   "source": [
    "HTML(tab_8gpu_k80)"
   ]
  },
  {
   "cell_type": "code",
   "execution_count": 56,
   "metadata": {},
   "outputs": [
    {
     "data": {
      "text/html": [
       "\n",
       "    <h3>KNN Comparison with 2.1million datapoints on Google Compute Eng. ( 8 CPU / 8 GPU NVIDIA Tesla V100)</h3> \n",
       "    <table>\n",
       "    <tr><th></th>                  <th>SkLearn ( K - 5 )</th> <th>FAISS ( K - 5 )</th>  <th>SageMaker ( K - 5 )</th></tr>\n",
       "    <tr><td>Test DataPoints</td>                <td>200k</td>   <td>200k</td>     <td>200k</td></tr>\n",
       "    <tr><td>Features</td>                       <td>54</td>     <td>54</td>       <td>54</td></tr>\n",
       "    <tr><td>Accuracy</td>                       <td>99.20%</td> <td>99.00%</td>   <td>92.60%</td></tr>\n",
       "    <tr><td>Prediction Time (secs)</td>         <td>23</td>     <td>5</td>        <td>12</td></tr>\n",
       "    <tr><td>Training Model Time (in secs)</td>  <td>27</td>     <td>163</td>      <td>81</td></tr>\n",
       "</table>"
      ],
      "text/plain": [
       "<IPython.core.display.HTML object>"
      ]
     },
     "execution_count": 56,
     "metadata": {},
     "output_type": "execute_result"
    }
   ],
   "source": [
    "HTML(tab_8gpu_v100)"
   ]
  },
  {
   "cell_type": "markdown",
   "metadata": {},
   "source": [
    "<b>Notebooks and DataSets:</b>\n",
    "- Notebook for producing the results [Sagemaker](notebooks/KNN-SageMaker.ipynb),      [https://github.com/shankarpm/faiss_knn/blob/master/KNN-SageMaker.ipynb]\n",
    "- CovType Datasets can be downloaded here ['https://archive.ics.uci.edu/ml/machine-learning-databases/covtype/covtype.data.gz']\n",
    "\n",
    "<b>Resources Used:\t</b>\t\t\t\t\t\t\t\t\t\t\t\t\t\t\t\t\t\t\t\t\t\t\n",
    "1 CPU / 1 GPU Nvidia Tesla K 80\t\t\t\t\t\t\t\t\t\t\t\t\t\t\t\t\t\t\t\t\t\t\t\t\t\n",
    "4 CPU / 4 GPU NVIDIA Tesla P100\t\t\t\t\t\t\t\t\t\t\t\t\t\t\t\t\t\t\t\t\t\t\t\t\t\n",
    "8 CPU / 8 GPU NVIDIA Tesla K80\t\t\t\t\t\t\t\t\t\t\t\t\t\t\t\t\t\t\t\t\t\t\t\t\t\n",
    "8 CPU / 8 GPU NVIDIA Tesla V100\t\t\t\t\t\t\t\t\t\t\t\t\t\t\t\t\t\t\t\t\t\t\t\t\t\n",
    "Mac PC - CPU - Intel 8-core - i7\t\t\t\t\t\t\t\t\t\t\t\t\t\t\t\t\t\t\t\t\t\t\t\t\t"
   ]
  },
  {
   "cell_type": "markdown",
   "metadata": {},
   "source": [
    "<h3> Analysis and Conclusion: </h3>\n",
    "\n",
    "<b> Accuracy: </b>\n",
    "<p style='text-align: justify;'> \n",
    "&nbsp;&nbsp;&nbsp; Accuracy was tested with the same toy dataset with 54 features for all 3 models.\n",
    "With Respect to Accuracy using Inference Time, FAISS and Sklearn always gives the best with very close to each other with more than 99% .For 200k and 2.1 million data points . \n",
    "    <br>\n",
    "  &nbsp;&nbsp;&nbsp;        For both the volumes , Accuracy almost remains the same for FAISS and sklearn. FAISS and SKLearn accuracy was around 5-10% better compared ",
    "to Sagemaker in low and high volumes of data with the same value of KNN parameter ‘K’.<br>\n",
    "&nbsp;&nbsp;&nbsp;It is interesting that all these 3 models use different default distance metric to calculate nearest neighbors like sklearn uses Minkowski distance ,  ",
    "Not sure If Sagemaker uses cosine distance(although FAISS index can be used) , and FAISS using IndexIVFFlat index.\n",
    "Accuracy remains the same independent of multi-core computing(CPU or GPU) for all 3 models. \n",
    "</p>\n",
    "\n",
    "<b>Model Training Time :</b>\n",
    "<p style='text-align: justify;'>\n",
    "CPU:<br>\n",
    " &nbsp;&nbsp;&nbsp;Based on the benchmark results from 3 Models , We find training time is proportional to the datapoints size. Sklearn is exceptionally fast when tested on CPU compared to FAISS and Sagemaker.\n",
    "For 500k datapoints on CPU, SKlearn takes 4 secs , with FAISS 40 secs and sagemaker 186 seconds.\n",
    "  <br>\n",
    "    <br>\n",
    "GPU:\n",
    "    <br>\n",
    " &nbsp;&nbsp;&nbsp;   Sklearn doesn't utilitze the GPU model with any number of instances unlike FAISS and Sagemaker.\n",
    "FAISS performed 3-4 times faster than Sagemaker on 1 GPU and 4 GPU instances and performed 20% faster on 8 GPU instances with 2.1 million datapoints.\n",
    "P100 Model( 4 GPU) performed the best among all Tesla Models with respect to FAISS model training time of 51 secs.\n",
    "<p> \n",
    "    \n",
    "    \n",
    "<b>Inference Time:</b>\n",
    "<p style='text-align: justify;'>\n",
    " &nbsp;&nbsp;&nbsp; Based on the benchmark results from 3 Models , We find Inference time for FAISS improves significantly from CPU to GPU like 7 minutes to 1 minute for 200k test data points.\n",
    "Similar to Training time, Sklearn doesn't utilize the GPU model with any number of instances unlike FAISS and Sagemaker.<br>\n",
    " &nbsp;&nbsp;&nbsp; FAISS showed good response from 64 seconds to 7 seconds with 1 GPU to 4 GPU respectively with 200k test data-points. Sagemaker didn't show much significance change with test on multiple GPUS(1,4,8).  ",
    "Looks FAISS is the clear winner here too.<br>\n",
    " &nbsp;&nbsp;&nbsp; For FAISS , P100 model with 4 GPU gave better results(from 13 seconds to 7 seconds) than K80 with 8 GPU.\n",
    "And V100 model performed the best compared to K80 in 8 GPU model from 13 seconds to 5 seconds.\n",
    "    <p> \n",
    "        \n",
    "        \n",
    "<b>Conclusion:</b>\n",
    "<p style='text-align: justify;'>\n",
    " &nbsp;&nbsp;&nbsp; Based on the above benchmark results ,Looks like FAISS is clear winner in all KPI's.\n",
    "SKlearn is better compared to Sagemaker in accuracy terms but doesn't work in GPU models. So sklearn may not a good candidate for big data sets even though the accuracy is good. ",
    "SKlearn may be better model for small datasets in CPU.\n",
    "FAISS beats Sagemaker in all areas very significantly.\n",
    "    <p> \n",
    "        \n",
    "        \n",
    "<b>Interesting Find:   </b>   \n",
    "<p style='text-align: justify;'>\n",
    " &nbsp;&nbsp;&nbsp; &nbsp;&nbsp;&nbsp; Training on FAISS model on the first time for a new dataset takes longer time but running on the same dataset subsequently becomes very fast.   <br>                                              \n",
    " Not sure if it caches the index somewhere.                                                  \n",
    "For example with 200k test datapoints on 8 core GPU,First time it takes 72 seconds to train the model. Ran the code again with the same parameters , it took almost 18 seconds to train the model.Its almost 4 times faster on the 2nd time.  <p>                                                 "
   ]
  },
  {
   "cell_type": "code",
   "execution_count": null,
   "metadata": {},
   "outputs": [],
   "source": []
  }
 ],
 "metadata": {
  "kernelspec": {
   "display_name": "Python 3",
   "language": "python",
   "name": "python3"
  },
  "language_info": {
   "codemirror_mode": {
    "name": "ipython",
    "version": 3
   },
   "file_extension": ".py",
   "mimetype": "text/x-python",
   "name": "python",
   "nbconvert_exporter": "python",
   "pygments_lexer": "ipython3",
   "version": "3.6.8"
  },
  "toc-autonumbering": false,
  "toc-showcode": true,
  "toc-showmarkdowntxt": true
 },
 "nbformat": 4,
 "nbformat_minor": 2
}
