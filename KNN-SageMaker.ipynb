{
 "cells": [
  {
   "cell_type": "code",
   "execution_count": 1,
   "metadata": {},
   "outputs": [],
   "source": [
    "%%bash\n",
    "#wget 'https://archive.ics.uci.edu/ml/machine-learning-databases/covtype/covtype.data.gz'\n",
    "mkdir -p /tmp/covtype/raw\n",
    "mv covtype.data.gz /tmp/covtype/raw/covtype.data.gz"
   ]
  },
  {
   "cell_type": "code",
   "execution_count": 35,
   "metadata": {},
   "outputs": [
    {
     "name": "stdout",
     "output_type": "stream",
     "text": [
      "Reading raw data from /tmp/covtype/raw/covtype.data.gz\n"
     ]
    }
   ],
   "source": [
    "import numpy as np\n",
    "import os\n",
    "\n",
    "data_dir = \"/tmp/covtype/\"\n",
    "processed_subdir = \"standardized\"\n",
    "raw_data_file = os.path.join(data_dir, \"raw\", \"covtype.data.gz\")\n",
    "train_features_file = os.path.join(data_dir, processed_subdir, \"train/csv/features.csv\")\n",
    "train_labels_file = os.path.join(data_dir, processed_subdir, \"train/csv/labels.csv\")\n",
    "test_features_file = os.path.join(data_dir, processed_subdir, \"test/csv/features.csv\")\n",
    "test_labels_file = os.path.join(data_dir, processed_subdir, \"test/csv/labels.csv\")\n",
    "\n",
    "# read raw data\n",
    "print(\"Reading raw data from {}\".format(raw_data_file))\n",
    "raw = np.loadtxt(raw_data_file, delimiter=',')\n",
    "\n",
    "# split into train/test with a 90/10 split\n",
    "np.random.seed(0)\n",
    "np.random.shuffle(raw)\n",
    "train_size = int(0.9 * raw.shape[0])\n",
    "train_features = raw[:train_size, :-1]\n",
    "train_labels = raw[:train_size, -1]\n",
    "test_features = raw[train_size:, :-1]\n",
    "test_labels = raw[train_size:, -1]"
   ]
  },
  {
   "cell_type": "code",
   "execution_count": 3,
   "metadata": {},
   "outputs": [
    {
     "name": "stdout",
     "output_type": "stream",
     "text": [
      "size -  2091643\n"
     ]
    }
   ],
   "source": [
    "print('size - ',train_features.shape[0])"
   ]
  },
  {
   "cell_type": "code",
   "execution_count": 36,
   "metadata": {},
   "outputs": [],
   "source": [
    "import numpy as np\n",
    "import os\n",
    "import io\n",
    "import sagemaker.amazon.common as smac \n",
    "\n",
    "import boto3\n",
    "import os\n",
    "import sagemaker \n",
    "import matplotlib.pyplot as plt\n",
    "\n",
    "import sagemaker\n",
    "from sagemaker import get_execution_role\n",
    "from sagemaker.predictor import csv_serializer, json_deserializer\n",
    "from sagemaker.amazon.amazon_estimator import get_image_uri\n"
   ]
  },
  {
   "cell_type": "code",
   "execution_count": 165,
   "metadata": {},
   "outputs": [],
   "source": [
    "#print(get_execution_role())\n",
    "#instance_type = 'ml.p3.8xlarge'\n",
    "#instance_type = 'ml.p2.xlarge'\n",
    "instance_type = 'ml.m4.xlarge'\n",
    "gpu_train_instance_count=1\n",
    "hyperparams = {\n",
    "    'feature_dim': 54,\n",
    "    'k': 5,\n",
    "    'sample_size': 200000,\n",
    "    'predictor_type': 'classifier' \n",
    "}"
   ]
  },
  {
   "cell_type": "code",
   "execution_count": 159,
   "metadata": {},
   "outputs": [],
   "source": [
    "def trained_estimator_from_hyperparams(s3_train_data, hyperparams, output_path, s3_test_data=None):\n",
    "    \"\"\"\n",
    "    Create an Estimator from the given hyperparams, fit to training data, \n",
    "    and return a deployed predictor\n",
    "    \n",
    "    \"\"\"\n",
    "    # set up the estimator\n",
    "    knn = sagemaker.estimator.Estimator(get_image_uri(boto3.Session().region_name, \"knn\"),\n",
    "        get_execution_role(),\n",
    "        train_instance_count=gpu_train_instance_count,\n",
    "        train_instance_type= instance_type,# 'ml.m5.2xlarge',\n",
    "        output_path=output_path,\n",
    "        sagemaker_session=sagemaker.Session())\n",
    "    knn.set_hyperparameters(**hyperparams)\n",
    "    \n",
    "    # train a model. fit_input contains the locations of the train and test data\n",
    "    fit_input = {'train': s3_train_data}\n",
    "    if s3_test_data is not None:\n",
    "        fit_input['test'] = s3_test_data\n",
    "    knn.fit(fit_input)\n",
    "    return knn\n",
    "\n",
    "\n",
    "def predictor_from_estimator(knn_estimator, estimator_name, instance_type, endpoint_name=None): \n",
    "    knn_predictor = knn_estimator.deploy(initial_instance_count=gpu_train_instance_count, \n",
    "                                         instance_type=instance_type,\n",
    "                                        endpoint_name=endpoint_name)\n",
    "    knn_predictor.content_type = 'text/csv'\n",
    "    knn_predictor.serializer = csv_serializer\n",
    "    knn_predictor.deserializer = json_deserializer\n",
    "    return knn_predictor"
   ]
  },
  {
   "cell_type": "code",
   "execution_count": 160,
   "metadata": {},
   "outputs": [
    {
     "name": "stdout",
     "output_type": "stream",
     "text": [
      "train_features shape =  (2091643, 54)\n",
      "train_labels shape =  (2091643,)\n"
     ]
    },
    {
     "data": {
      "text/plain": [
       "0"
      ]
     },
     "execution_count": 160,
     "metadata": {},
     "output_type": "execute_result"
    }
   ],
   "source": [
    "import io\n",
    "import sagemaker.amazon.common as smac\n",
    "\n",
    "print('train_features shape = ', train_features.shape)\n",
    "print('train_labels shape = ', train_labels.shape)\n",
    "\n",
    "buf = io.BytesIO()\n",
    "smac.write_numpy_to_dense_tensor(buf, train_features, train_labels)\n",
    "buf.seek(0)"
   ]
  },
  {
   "cell_type": "code",
   "execution_count": 161,
   "metadata": {},
   "outputs": [
    {
     "name": "stdout",
     "output_type": "stream",
     "text": [
      "uploaded training data location: s3://sagemaker-us-west-2-346891358411/knn-blog-2019-02-22/train/recordio-pb-data\n"
     ]
    }
   ],
   "source": [
    "import boto3\n",
    "import os\n",
    "import sagemaker\n",
    "\n",
    "bucket = sagemaker.Session().default_bucket() # modify to your bucket name\n",
    "prefix = 'knn-blog-2019-02-22'\n",
    "key = 'recordio-pb-data'\n",
    "\n",
    "boto3.resource('s3').Bucket(bucket).Object(os.path.join(prefix, 'train', key)).upload_fileobj(buf)\n",
    "s3_train_data = 's3://{}/{}/train/{}'.format(bucket, prefix, key)\n",
    "print('uploaded training data location: {}'.format(s3_train_data))"
   ]
  },
  {
   "cell_type": "code",
   "execution_count": 162,
   "metadata": {},
   "outputs": [
    {
     "name": "stdout",
     "output_type": "stream",
     "text": [
      "test_features shape =  (232405, 54)\n",
      "test_labels shape =  (232405,)\n",
      "uploaded test data location: s3://sagemaker-us-west-2-346891358411/knn-blog-2019-02-22/test/recordio-pb-data\n"
     ]
    }
   ],
   "source": [
    "print('test_features shape = ', test_features.shape)\n",
    "print('test_labels shape = ', test_labels.shape)\n",
    "\n",
    "buf = io.BytesIO()\n",
    "smac.write_numpy_to_dense_tensor(buf, test_features, test_labels)\n",
    "buf.seek(0)\n",
    "\n",
    "boto3.resource('s3').Bucket(bucket).Object(os.path.join(prefix, 'test', key)).upload_fileobj(buf)\n",
    "s3_test_data = 's3://{}/{}/test/{}'.format(bucket, prefix, key)\n",
    "print('uploaded test data location: {}'.format(s3_test_data))"
   ]
  },
  {
   "cell_type": "code",
   "execution_count": 168,
   "metadata": {},
   "outputs": [
    {
     "name": "stderr",
     "output_type": "stream",
     "text": [
      "INFO:sagemaker:Creating training-job with name: knn-2019-02-24-01-14-33-194\n"
     ]
    },
    {
     "name": "stdout",
     "output_type": "stream",
     "text": [
      "2019-02-24 01:14:33 Starting - Starting the training job...\n",
      "2019-02-24 01:14:34 Starting - Launching requested ML instances......\n",
      "2019-02-24 01:15:39 Starting - Preparing the instances for training......\n",
      "2019-02-24 01:16:34 Downloading - Downloading input data...\n",
      "2019-02-24 01:17:12 Training - Downloading the training image..\n",
      "\u001b[31mDocker entrypoint called with argument(s): train\u001b[0m\n",
      "\u001b[31m[02/24/2019 01:17:44 INFO 140635007137600] Reading default configuration from /opt/amazon/lib/python2.7/site-packages/algorithm/resources/default-conf.json: {u'index_metric': u'L2', u'_tuning_objective_metric': u'', u'_num_gpus': u'auto', u'_log_level': u'info', u'faiss_index_ivf_nlists': u'auto', u'epochs': u'1', u'index_type': u'faiss.Flat', u'_faiss_index_nprobe': u'5', u'_kvstore': u'dist_async', u'_num_kv_servers': u'1', u'mini_batch_size': u'5000'}\u001b[0m\n",
      "\u001b[31m[02/24/2019 01:17:44 INFO 140635007137600] Reading provided configuration from /opt/ml/input/config/hyperparameters.json: {u'sample_size': u'200000', u'feature_dim': u'54', u'k': u'5', u'predictor_type': u'classifier'}\u001b[0m\n",
      "\u001b[31m[02/24/2019 01:17:44 INFO 140635007137600] Final configuration: {u'index_metric': u'L2', u'predictor_type': u'classifier', u'_tuning_objective_metric': u'', u'_num_gpus': u'auto', u'_log_level': u'info', u'feature_dim': u'54', u'faiss_index_ivf_nlists': u'auto', u'sample_size': u'200000', u'epochs': u'1', u'index_type': u'faiss.Flat', u'_faiss_index_nprobe': u'5', u'_kvstore': u'dist_async', u'_num_kv_servers': u'1', u'mini_batch_size': u'5000', u'k': u'5'}\u001b[0m\n",
      "\u001b[31m[02/24/2019 01:17:44 WARNING 140635007137600] Loggers have already been setup.\u001b[0m\n",
      "\u001b[31m[02/24/2019 01:17:44 INFO 140635007137600] Launching parameter server for role scheduler\u001b[0m\n",
      "\u001b[31m[02/24/2019 01:17:44 INFO 140635007137600] {'ECS_CONTAINER_METADATA_URI': 'http://169.254.170.2/v3/6db61f64-011a-488c-b051-b5964a136927', 'PROTOCOL_BUFFERS_PYTHON_IMPLEMENTATION_VERSION': '2', 'PATH': '/opt/amazon/bin:/usr/local/nvidia/bin:/usr/local/sbin:/usr/local/bin:/usr/sbin:/usr/bin:/sbin:/bin:/opt/amazon/bin:/opt/amazon/bin', 'SAGEMAKER_HTTP_PORT': '8080', 'HOME': '/root', 'PYTHONUNBUFFERED': 'TRUE', 'CANONICAL_ENVROOT': '/opt/amazon', 'LD_LIBRARY_PATH': '/usr/local/nvidia/lib64:/opt/amazon/lib', 'LANG': 'en_US.utf8', 'DMLC_INTERFACE': 'ethwe', 'SHLVL': '1', 'AWS_REGION': 'us-west-2', 'NVIDIA_VISIBLE_DEVICES': 'all', 'TRAINING_JOB_NAME': 'knn-2019-02-24-01-14-33-194', 'PROTOCOL_BUFFERS_PYTHON_IMPLEMENTATION': 'cpp', 'ENVROOT': '/opt/amazon', 'SAGEMAKER_DATA_PATH': '/opt/ml', 'NVIDIA_DRIVER_CAPABILITIES': 'compute,utility', 'NVIDIA_REQUIRE_CUDA': 'cuda>=9.0', 'OMP_NUM_THREADS': '2', 'HOSTNAME': 'aws', 'AWS_CONTAINER_CREDENTIALS_RELATIVE_URI': '/v2/credentials/e03b31fe-6d74-4dd0-b4ff-d895bfdb737e', 'PWD': '/', 'AWS_EXECUTION_ENV': 'AWS_ECS_EC2'}\u001b[0m\n",
      "\u001b[31m[02/24/2019 01:17:44 INFO 140635007137600] envs={'ECS_CONTAINER_METADATA_URI': 'http://169.254.170.2/v3/6db61f64-011a-488c-b051-b5964a136927', 'PROTOCOL_BUFFERS_PYTHON_IMPLEMENTATION_VERSION': '2', 'DMLC_NUM_WORKER': '1', 'DMLC_PS_ROOT_PORT': '9000', 'PATH': '/opt/amazon/bin:/usr/local/nvidia/bin:/usr/local/sbin:/usr/local/bin:/usr/sbin:/usr/bin:/sbin:/bin:/opt/amazon/bin:/opt/amazon/bin', 'SAGEMAKER_HTTP_PORT': '8080', 'HOME': '/root', 'PYTHONUNBUFFERED': 'TRUE', 'CANONICAL_ENVROOT': '/opt/amazon', 'LD_LIBRARY_PATH': '/usr/local/nvidia/lib64:/opt/amazon/lib', 'LANG': 'en_US.utf8', 'DMLC_INTERFACE': 'ethwe', 'SHLVL': '1', 'DMLC_PS_ROOT_URI': '10.32.0.5', 'AWS_REGION': 'us-west-2', 'NVIDIA_VISIBLE_DEVICES': 'all', 'TRAINING_JOB_NAME': 'knn-2019-02-24-01-14-33-194', 'PROTOCOL_BUFFERS_PYTHON_IMPLEMENTATION': 'cpp', 'ENVROOT': '/opt/amazon', 'SAGEMAKER_DATA_PATH': '/opt/ml', 'NVIDIA_DRIVER_CAPABILITIES': 'compute,utility', 'NVIDIA_REQUIRE_CUDA': 'cuda>=9.0', 'OMP_NUM_THREADS': '2', 'HOSTNAME': 'aws', 'AWS_CONTAINER_CREDENTIALS_RELATIVE_URI': '/v2/credentials/e03b31fe-6d74-4dd0-b4ff-d895bfdb737e', 'DMLC_ROLE': 'scheduler', 'PWD': '/', 'DMLC_NUM_SERVER': '1', 'AWS_EXECUTION_ENV': 'AWS_ECS_EC2'}\u001b[0m\n",
      "\u001b[31m[02/24/2019 01:17:44 INFO 140635007137600] Launching parameter server for role server\u001b[0m\n",
      "\u001b[31m[02/24/2019 01:17:44 INFO 140635007137600] {'ECS_CONTAINER_METADATA_URI': 'http://169.254.170.2/v3/6db61f64-011a-488c-b051-b5964a136927', 'PROTOCOL_BUFFERS_PYTHON_IMPLEMENTATION_VERSION': '2', 'PATH': '/opt/amazon/bin:/usr/local/nvidia/bin:/usr/local/sbin:/usr/local/bin:/usr/sbin:/usr/bin:/sbin:/bin:/opt/amazon/bin:/opt/amazon/bin', 'SAGEMAKER_HTTP_PORT': '8080', 'HOME': '/root', 'PYTHONUNBUFFERED': 'TRUE', 'CANONICAL_ENVROOT': '/opt/amazon', 'LD_LIBRARY_PATH': '/usr/local/nvidia/lib64:/opt/amazon/lib', 'LANG': 'en_US.utf8', 'DMLC_INTERFACE': 'ethwe', 'SHLVL': '1', 'AWS_REGION': 'us-west-2', 'NVIDIA_VISIBLE_DEVICES': 'all', 'TRAINING_JOB_NAME': 'knn-2019-02-24-01-14-33-194', 'PROTOCOL_BUFFERS_PYTHON_IMPLEMENTATION': 'cpp', 'ENVROOT': '/opt/amazon', 'SAGEMAKER_DATA_PATH': '/opt/ml', 'NVIDIA_DRIVER_CAPABILITIES': 'compute,utility', 'NVIDIA_REQUIRE_CUDA': 'cuda>=9.0', 'OMP_NUM_THREADS': '2', 'HOSTNAME': 'aws', 'AWS_CONTAINER_CREDENTIALS_RELATIVE_URI': '/v2/credentials/e03b31fe-6d74-4dd0-b4ff-d895bfdb737e', 'PWD': '/', 'AWS_EXECUTION_ENV': 'AWS_ECS_EC2'}\u001b[0m\n",
      "\u001b[31m[02/24/2019 01:17:44 INFO 140635007137600] envs={'ECS_CONTAINER_METADATA_URI': 'http://169.254.170.2/v3/6db61f64-011a-488c-b051-b5964a136927', 'PROTOCOL_BUFFERS_PYTHON_IMPLEMENTATION_VERSION': '2', 'DMLC_NUM_WORKER': '1', 'DMLC_PS_ROOT_PORT': '9000', 'PATH': '/opt/amazon/bin:/usr/local/nvidia/bin:/usr/local/sbin:/usr/local/bin:/usr/sbin:/usr/bin:/sbin:/bin:/opt/amazon/bin:/opt/amazon/bin', 'SAGEMAKER_HTTP_PORT': '8080', 'HOME': '/root', 'PYTHONUNBUFFERED': 'TRUE', 'CANONICAL_ENVROOT': '/opt/amazon', 'LD_LIBRARY_PATH': '/usr/local/nvidia/lib64:/opt/amazon/lib', 'LANG': 'en_US.utf8', 'DMLC_INTERFACE': 'ethwe', 'SHLVL': '1', 'DMLC_PS_ROOT_URI': '10.32.0.5', 'AWS_REGION': 'us-west-2', 'NVIDIA_VISIBLE_DEVICES': 'all', 'TRAINING_JOB_NAME': 'knn-2019-02-24-01-14-33-194', 'PROTOCOL_BUFFERS_PYTHON_IMPLEMENTATION': 'cpp', 'ENVROOT': '/opt/amazon', 'SAGEMAKER_DATA_PATH': '/opt/ml', 'NVIDIA_DRIVER_CAPABILITIES': 'compute,utility', 'NVIDIA_REQUIRE_CUDA': 'cuda>=9.0', 'OMP_NUM_THREADS': '2', 'HOSTNAME': 'aws', 'AWS_CONTAINER_CREDENTIALS_RELATIVE_URI': '/v2/credentials/e03b31fe-6d74-4dd0-b4ff-d895bfdb737e', 'DMLC_ROLE': 'server', 'PWD': '/', 'DMLC_NUM_SERVER': '1', 'AWS_EXECUTION_ENV': 'AWS_ECS_EC2'}\u001b[0m\n",
      "\u001b[31m[02/24/2019 01:17:44 INFO 140635007137600] Environment: {'ECS_CONTAINER_METADATA_URI': 'http://169.254.170.2/v3/6db61f64-011a-488c-b051-b5964a136927', 'PROTOCOL_BUFFERS_PYTHON_IMPLEMENTATION_VERSION': '2', 'DMLC_PS_ROOT_PORT': '9000', 'DMLC_NUM_WORKER': '1', 'SAGEMAKER_HTTP_PORT': '8080', 'PATH': '/opt/amazon/bin:/usr/local/nvidia/bin:/usr/local/sbin:/usr/local/bin:/usr/sbin:/usr/bin:/sbin:/bin:/opt/amazon/bin:/opt/amazon/bin', 'PYTHONUNBUFFERED': 'TRUE', 'CANONICAL_ENVROOT': '/opt/amazon', 'LD_LIBRARY_PATH': '/usr/local/nvidia/lib64:/opt/amazon/lib', 'LANG': 'en_US.utf8', 'DMLC_INTERFACE': 'ethwe', 'SHLVL': '1', 'DMLC_PS_ROOT_URI': '10.32.0.5', 'AWS_REGION': 'us-west-2', 'NVIDIA_VISIBLE_DEVICES': 'all', 'TRAINING_JOB_NAME': 'knn-2019-02-24-01-14-33-194', 'HOME': '/root', 'PROTOCOL_BUFFERS_PYTHON_IMPLEMENTATION': 'cpp', 'ENVROOT': '/opt/amazon', 'SAGEMAKER_DATA_PATH': '/opt/ml', 'NVIDIA_DRIVER_CAPABILITIES': 'compute,utility', 'NVIDIA_REQUIRE_CUDA': 'cuda>=9.0', 'OMP_NUM_THREADS': '2', 'HOSTNAME': 'aws', 'AWS_CONTAINER_CREDENTIALS_RELATIVE_URI': '/v2/credentials/e03b31fe-6d74-4dd0-b4ff-d895bfdb737e', 'DMLC_ROLE': 'worker', 'PWD': '/', 'DMLC_NUM_SERVER': '1', 'AWS_EXECUTION_ENV': 'AWS_ECS_EC2'}\u001b[0m\n",
      "\u001b[31mProcess 36 is a shell:scheduler.\u001b[0m\n",
      "\u001b[31mProcess 37 is a shell:server.\u001b[0m\n",
      "\u001b[31mProcess 1 is a worker.\u001b[0m\n",
      "\u001b[31m[02/24/2019 01:17:44 INFO 140635007137600] Using default worker.\u001b[0m\n",
      "\u001b[31m[2019-02-24 01:17:44.617] [tensorio] [info] batch={\"data_pipeline\": \"/opt/ml/input/data/train\", \"num_examples\": 5000, \"features\": [{\"name\": \"label_values\", \"shape\": [1], \"storage_type\": \"dense\"}, {\"name\": \"values\", \"shape\": [54], \"storage_type\": \"dense\"}]}\u001b[0m\n",
      "\u001b[31m[2019-02-24 01:17:44.669] [tensorio] [warning] TensorIO is already initialized; ignoring the initialization routine.\u001b[0m\n",
      "\u001b[31m[2019-02-24 01:17:44.677] [tensorio] [info] batch={\"data_pipeline\": \"/opt/ml/input/data/test\", \"num_examples\": 5000, \"features\": [{\"name\": \"label_values\", \"shape\": [1], \"storage_type\": \"dense\"}, {\"name\": \"values\", \"shape\": [54], \"storage_type\": \"dense\"}]}\u001b[0m\n",
      "\u001b[31m[02/24/2019 01:17:44 INFO 140635007137600] nvidia-smi took: 0.0252170562744 secs to identify 0 gpus\u001b[0m\n",
      "\u001b[31m[02/24/2019 01:17:44 INFO 140635007137600] Create Store: dist_async\u001b[0m\n",
      "\u001b[31m[02/24/2019 01:17:45 ERROR 140635007137600] nvidia-smi: failed to run (127): /bin/sh: nvidia-smi: command not found\u001b[0m\n",
      "\u001b[31m[02/24/2019 01:17:45 INFO 140635007137600] Using per-worker sample size = 200000 (Available virtual memory = 14958174208 bytes, GPU free memory = 0 bytes, number of workers = 1). If an out-of-memory error occurs, choose a larger instance type, use dimension reduction, decrease sample_size, and/or decrease mini_batch_size.\u001b[0m\n",
      "\u001b[31m#metrics {\"Metrics\": {\"Max Batches Seen Between Resets\": {\"count\": 1, \"max\": 0, \"sum\": 0.0, \"min\": 0}, \"Number of Batches Since Last Reset\": {\"count\": 1, \"max\": 0, \"sum\": 0.0, \"min\": 0}, \"Number of Records Since Last Reset\": {\"count\": 1, \"max\": 0, \"sum\": 0.0, \"min\": 0}, \"Total Batches Seen\": {\"count\": 1, \"max\": 0, \"sum\": 0.0, \"min\": 0}, \"Total Records Seen\": {\"count\": 1, \"max\": 0, \"sum\": 0.0, \"min\": 0}, \"Max Records Seen Between Resets\": {\"count\": 1, \"max\": 0, \"sum\": 0.0, \"min\": 0}, \"Reset Count\": {\"count\": 1, \"max\": 0, \"sum\": 0.0, \"min\": 0}}, \"EndTime\": 1550971065.961671, \"Dimensions\": {\"Host\": \"algo-1\", \"Meta\": \"init_train_data_iter\", \"Operation\": \"training\", \"Algorithm\": \"AWS/KNN\"}, \"StartTime\": 1550971065.961601}\n",
      "\u001b[0m\n",
      "\u001b[31m[2019-02-24 01:17:45.987] [tensorio] [info] data_pipeline_stats={\"name\": \"/opt/ml/input/data/train\", \"epoch\": 0, \"duration\": 1395, \"num_examples\": 1}\u001b[0m\n"
     ]
    },
    {
     "name": "stdout",
     "output_type": "stream",
     "text": [
      "\n",
      "2019-02-24 01:17:41 Training - Training image download completed. Training in progress.\u001b[31m[02/24/2019 01:17:54 INFO 140635007137600] push reservoir to kv... 1 num_workers 0 rank\u001b[0m\n",
      "\u001b[31m[02/24/2019 01:17:54 INFO 140635007137600] ...done (200000)\u001b[0m\n",
      "\u001b[31m[02/24/2019 01:17:54 INFO 140635007137600] #progress_metric: host=algo-1, completed 100 % of epochs\u001b[0m\n",
      "\u001b[31m#metrics {\"Metrics\": {\"Max Batches Seen Between Resets\": {\"count\": 1, \"max\": 419, \"sum\": 419.0, \"min\": 419}, \"Number of Batches Since Last Reset\": {\"count\": 1, \"max\": 419, \"sum\": 419.0, \"min\": 419}, \"Number of Records Since Last Reset\": {\"count\": 1, \"max\": 2091643, \"sum\": 2091643.0, \"min\": 2091643}, \"Total Batches Seen\": {\"count\": 1, \"max\": 419, \"sum\": 419.0, \"min\": 419}, \"Total Records Seen\": {\"count\": 1, \"max\": 2091643, \"sum\": 2091643.0, \"min\": 2091643}, \"Max Records Seen Between Resets\": {\"count\": 1, \"max\": 2091643, \"sum\": 2091643.0, \"min\": 2091643}, \"Reset Count\": {\"count\": 1, \"max\": 1, \"sum\": 1.0, \"min\": 1}}, \"EndTime\": 1550971074.228497, \"Dimensions\": {\"Host\": \"algo-1\", \"Meta\": \"training_data_iter\", \"Operation\": \"training\", \"Algorithm\": \"AWS/KNN\", \"epoch\": 0}, \"StartTime\": 1550971065.988004}\n",
      "\u001b[0m\n",
      "\u001b[31m[02/24/2019 01:17:54 INFO 140635007137600] #throughput_metric: host=algo-1, train throughput=253818.203554 records/second\u001b[0m\n",
      "\u001b[31m[02/24/2019 01:17:54 INFO 140635007137600] pulled row count... worker 0 rows 200000\u001b[0m\n",
      "\u001b[31m[02/24/2019 01:17:54 INFO 140635007137600] pulled... worker 0 data (200000, 54) labels (200000, 1) nans 0\u001b[0m\n",
      "\u001b[31m[02/24/2019 01:17:54 INFO 140635007137600] calling index.train...\u001b[0m\n",
      "\u001b[31m[02/24/2019 01:17:54 INFO 140635007137600] ...done calling index.train\u001b[0m\n",
      "\u001b[31m[02/24/2019 01:17:54 INFO 140635007137600] calling index.add...\u001b[0m\n",
      "\u001b[31m[02/24/2019 01:17:54 INFO 140635007137600] ...done calling index.add\u001b[0m\n",
      "\u001b[31m#metrics {\"Metrics\": {\"epochs\": {\"count\": 1, \"max\": 1, \"sum\": 1.0, \"min\": 1}, \"model.serialize.time\": {\"count\": 1, \"max\": 37.28508949279785, \"sum\": 37.28508949279785, \"min\": 37.28508949279785}, \"finalize.time\": {\"count\": 1, \"max\": 253.29303741455078, \"sum\": 253.29303741455078, \"min\": 253.29303741455078}, \"initialize.time\": {\"count\": 1, \"max\": 1226.423978805542, \"sum\": 1226.423978805542, \"min\": 1226.423978805542}, \"update.time\": {\"count\": 1, \"max\": 8240.124940872192, \"sum\": 8240.124940872192, \"min\": 8240.124940872192}}, \"EndTime\": 1550971074.51957, \"Dimensions\": {\"Host\": \"algo-1\", \"Operation\": \"training\", \"Algorithm\": \"AWS/KNN\"}, \"StartTime\": 1550971064.590351}\n",
      "\u001b[0m\n",
      "\n",
      "2019-02-24 01:19:30 Uploading - Uploading generated training model\n",
      "2019-02-24 01:19:30 Completed - Training job completed\n",
      "\u001b[31m#metrics {\"Metrics\": {\"Max Batches Seen Between Resets\": {\"count\": 1, \"max\": 47, \"sum\": 47.0, \"min\": 47}, \"Number of Batches Since Last Reset\": {\"count\": 1, \"max\": 47, \"sum\": 47.0, \"min\": 47}, \"Number of Records Since Last Reset\": {\"count\": 1, \"max\": 232405, \"sum\": 232405.0, \"min\": 232405}, \"Total Batches Seen\": {\"count\": 1, \"max\": 47, \"sum\": 47.0, \"min\": 47}, \"Total Records Seen\": {\"count\": 1, \"max\": 232405, \"sum\": 232405.0, \"min\": 232405}, \"Max Records Seen Between Resets\": {\"count\": 1, \"max\": 232405, \"sum\": 232405.0, \"min\": 232405}, \"Reset Count\": {\"count\": 1, \"max\": 0, \"sum\": 0.0, \"min\": 0}}, \"EndTime\": 1550971162.059655, \"Dimensions\": {\"Host\": \"algo-1\", \"Meta\": \"test_data_iter\", \"Operation\": \"training\", \"Algorithm\": \"AWS/KNN\"}, \"StartTime\": 1550971074.520364}\n",
      "\u001b[0m\n",
      "\u001b[31m[02/24/2019 01:19:22 INFO 140635007137600] #test_score (algo-1) : ('accuracy', 0.94357694541855808)\u001b[0m\n",
      "\u001b[31m[02/24/2019 01:19:22 INFO 140635007137600] #quality_metric: host=algo-1, test accuracy <score>=0.943576945419\u001b[0m\n",
      "\u001b[31m[2019-02-24 01:19:22.060] [tensorio] [info] data_pipeline_stats={\"name\": \"/opt/ml/input/data/train\", \"epoch\": 1, \"duration\": 96072, \"num_examples\": 419}\u001b[0m\n",
      "\u001b[31m[2019-02-24 01:19:22.060] [tensorio] [info] data_pipeline_stats={\"name\": \"/opt/ml/input/data/train\", \"duration\": 97467, \"num_epochs\": 2, \"num_examples\": 420}\u001b[0m\n",
      "\u001b[31m[2019-02-24 01:19:22.077] [tensorio] [info] data_pipeline_stats={\"name\": \"/opt/ml/input/data/test\", \"epoch\": 0, \"duration\": 97407, \"num_examples\": 47}\u001b[0m\n",
      "\u001b[31m[2019-02-24 01:19:22.077] [tensorio] [info] data_pipeline_stats={\"name\": \"/opt/ml/input/data/test\", \"duration\": 97407, \"num_epochs\": 1, \"num_examples\": 47}\u001b[0m\n",
      "\u001b[31m#metrics {\"Metrics\": {\"totaltime\": {\"count\": 1, \"max\": 97838.52696418762, \"sum\": 97838.52696418762, \"min\": 97838.52696418762}, \"setuptime\": {\"count\": 1, \"max\": 27.472972869873047, \"sum\": 27.472972869873047, \"min\": 27.472972869873047}}, \"EndTime\": 1550971162.081576, \"Dimensions\": {\"Host\": \"algo-1\", \"Operation\": \"training\", \"Algorithm\": \"AWS/KNN\"}, \"StartTime\": 1550971074.519703}\n",
      "\u001b[0m\n",
      "Billable seconds: 176\n"
     ]
    }
   ],
   "source": [
    "output_path = 's3://' + bucket + '/' + prefix + '/default_example/output'\n",
    "knn_estimator = trained_estimator_from_hyperparams(s3_train_data, hyperparams, output_path, \n",
    "                                                   s3_test_data=s3_test_data)"
   ]
  },
  {
   "cell_type": "code",
   "execution_count": 169,
   "metadata": {},
   "outputs": [
    {
     "name": "stdout",
     "output_type": "stream",
     "text": [
      "time required for training the model 2091643 data point: 0:02:55.571000\n"
     ]
    }
   ],
   "source": [
    "#job_name = 'knn-2019-02-22-07-10-08-640' #k = 15 GPU - 1\n",
    "#job_name = 'knn-2019-02-22-08-05-17-194' #k = 5  GPU - 1\n",
    "#job_name = 'knn-2019-02-22-08-48-28-391'  #k = 10  GPU - 1\n",
    "#job_name = 'knn-2019-02-22-14-38-53-090'# k = 10 GPU - 4\n",
    "#job_name = 'knn-2019-02-22-20-56-36-167'# k = 5 GPU - 4\n",
    "#job_name = 'knn-2019-02-22-18-20-14-286'# k = 15 GPU - 4\n",
    "#job_name = 'knn-2019-02-22-17-08-40-401'# k = 5 GPU - 8\n",
    "#job_name = 'knn-2019-02-22-17-26-51-801'# k = 10 GPU - 8\n",
    "#job_name = 'knn-2019-02-22-17-48-58-072'# k = 10 GPU - 8\n",
    "job_name = 'knn-2019-02-24-01-14-33-194' #k =5 mlm4large\n",
    "\n",
    "sagemaker_client = boto3.client('sagemaker')\n",
    "start_train_time = sagemaker_client.describe_training_job(TrainingJobName=job_name)['TrainingStartTime']\n",
    "end_train_time = sagemaker_client.describe_training_job(TrainingJobName=job_name)['TrainingEndTime']\n",
    "run_time = end_train_time - start_train_time \n",
    "print('time required for training the model %d data point: %s' % (train_features.shape[0], run_time))\n",
    "#print(knn_estimator)"
   ]
  },
  {
   "cell_type": "code",
   "execution_count": null,
   "metadata": {},
   "outputs": [],
   "source": [
    "import time \n",
    "model_name = 'knn_%s'% instance_type\n",
    "endpoint_name = 'knn-ml-m4-xlarge-%s'% (str(time.time()).replace('.','-'))\n",
    "print('setting up the endpoint..')\n",
    "predictor = predictor_from_estimator(knn_estimator, model_name, instance_type, endpoint_name=endpoint_name)"
   ]
  },
  {
   "cell_type": "code",
   "execution_count": 155,
   "metadata": {},
   "outputs": [
    {
     "name": "stdout",
     "output_type": "stream",
     "text": [
      "data split into 100 batches, of size 2325.\n",
      "time required for predicting 232405 data point: 17.59 seconds\n",
      "accuracy of model: 90.8%\n"
     ]
    }
   ],
   "source": [
    "batches = np.array_split(test_features, 100)\n",
    "print('data split into 100 batches, of size %d.' % batches[0].shape[0])\n",
    "\n",
    "# obtain an np array with the predictions for the entire test set\n",
    "start_time = time.time()\n",
    "predictions = []\n",
    "for batch in batches:\n",
    "    result = predictor.predict(batch)\n",
    "    cur_predictions = np.array([result['predictions'][i]['predicted_label'] for i in range(len(result['predictions']))])\n",
    "    predictions.append(cur_predictions)\n",
    "predictions = np.concatenate(predictions)\n",
    "run_time = time.time() - start_time\n",
    "\n",
    "test_size = test_labels.shape[0]\n",
    "num_correct = sum(predictions == test_labels)\n",
    "accuracy = num_correct / float(test_size)\n",
    "print('time required for predicting %d data point: %.2f seconds' % (test_size, run_time))\n",
    "print('accuracy of model: %.1f%%' % (accuracy * 100) )"
   ]
  },
  {
   "cell_type": "code",
   "execution_count": 106,
   "metadata": {},
   "outputs": [
    {
     "name": "stdout",
     "output_type": "stream",
     "text": [
      "Deleted knn-ml-m4-xlarge-1550858202-8549948\n"
     ]
    }
   ],
   "source": [
    "def delete_endpoint(predictor):\n",
    "    try:\n",
    "        boto3.client('sagemaker').delete_endpoint(EndpointName=predictor.endpoint)\n",
    "        print('Deleted {}'.format(predictor.endpoint))\n",
    "    except:\n",
    "        print('Already deleted: {}'.format(predictor.endpoint))\n",
    "\n",
    "delete_endpoint(predictor)"
   ]
  },
  {
   "cell_type": "code",
   "execution_count": 151,
   "metadata": {},
   "outputs": [
    {
     "name": "stdout",
     "output_type": "stream",
     "text": [
      "(2325, 54)\n",
      "(232405, 54)\n"
     ]
    }
   ],
   "source": [
    "batches = np.array_split(test_features, 100)\n",
    "#batch = np.array(batches) #batches[0] \n",
    "#print(type(batches))\n",
    "print(batches[0].shape)\n",
    "print(test_features.shape)"
   ]
  },
  {
   "cell_type": "code",
   "execution_count": 134,
   "metadata": {},
   "outputs": [
    {
     "name": "stdout",
     "output_type": "stream",
     "text": [
      "{'feature_dim': 54, 'k': 5, 'sample_size': 200000, 'predictor_type': 'classifier'}\n"
     ]
    }
   ],
   "source": [
    "print(hyperparams)"
   ]
  },
  {
   "cell_type": "code",
   "execution_count": 135,
   "metadata": {},
   "outputs": [
    {
     "name": "stdout",
     "output_type": "stream",
     "text": [
      "ml.p2.xlarge\n"
     ]
    }
   ],
   "source": [
    "print(instance_type)"
   ]
  },
  {
   "cell_type": "code",
   "execution_count": 136,
   "metadata": {},
   "outputs": [
    {
     "name": "stdout",
     "output_type": "stream",
     "text": [
      "4\n"
     ]
    }
   ],
   "source": [
    "print(gpu_train_instance_count)"
   ]
  },
  {
   "cell_type": "code",
   "execution_count": null,
   "metadata": {},
   "outputs": [],
   "source": []
  }
 ],
 "metadata": {
  "kernelspec": {
   "display_name": "conda_python3",
   "language": "python",
   "name": "conda_python3"
  },
  "language_info": {
   "codemirror_mode": {
    "name": "ipython",
    "version": 3
   },
   "file_extension": ".py",
   "mimetype": "text/x-python",
   "name": "python",
   "nbconvert_exporter": "python",
   "pygments_lexer": "ipython3",
   "version": "3.6.5"
  }
 },
 "nbformat": 4,
 "nbformat_minor": 2
}
