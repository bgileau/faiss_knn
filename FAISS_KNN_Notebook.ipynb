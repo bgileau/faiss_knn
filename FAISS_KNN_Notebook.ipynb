{
 "cells": [
  {
   "cell_type": "code",
   "execution_count": 22,
   "metadata": {},
   "outputs": [],
   "source": [
    "import numpy as np \n",
    "from collections import Counter \n",
    "import os \n",
    "import faiss\n",
    "import time\n",
    "class FaissKNNImpl:\n",
    "    \n",
    "    def __init__(self,k,faiss):\n",
    "        self.k = k # k nearest neighbor value\n",
    "        self.faissIns = faiss # FAISS instance\n",
    "        self.index = 0  \n",
    "        self.train_labels = []  \n",
    "        self.test_label_faiss_output = [] \n",
    "        \n",
    "    def fitModel(self,train_features,train_labels): \n",
    "        self.train_labels = train_labels\n",
    "        self.index = self.faissIns.IndexFlatL2(train_features.shape[1])   # build the index \n",
    "        self.index.add(train_features)       # add vectors to the index\n",
    "        \n",
    "    def predict(self,test_features): \n",
    "        distance, test_features_faiss_Index = self.index.search(test_features, self.k)\n",
    "        self.test_label_faiss_output =  np.zeros(test_features.shape[0])\n",
    "        for test_index in range(0,test_features.shape[0]):\n",
    "            self.test_label_faiss_output[test_index] = Counter(self.train_labels[test_features_faiss_Index[test_index]]).most_common(1)[0][0] \n",
    "        return self.test_label_faiss_output\n",
    "      \n",
    "    def getAccuracy(self,test_labels):\n",
    "        accuracy = (self.test_label_faiss_output == test_labels).mean() * 100 \n",
    "        return round(accuracy) "
   ]
  },
  {
   "cell_type": "code",
   "execution_count": 9,
   "metadata": {},
   "outputs": [
    {
     "name": "stdout",
     "output_type": "stream",
     "text": [
      "Reading raw data from raw/covtype.data.gz\n"
     ]
    }
   ],
   "source": [
    "data_dir = \"raw\" \n",
    "raw_data_file = os.path.join(data_dir, \"covtype.data.gz\")  \n",
    "print(\"Reading raw data from {}\".format(raw_data_file))\n",
    "raw_data = np.loadtxt(raw_data_file, delimiter=',')"
   ]
  },
  {
   "cell_type": "code",
   "execution_count": 10,
   "metadata": {},
   "outputs": [
    {
     "data": {
      "text/plain": [
       "(581012, 55)"
      ]
     },
     "execution_count": 10,
     "metadata": {},
     "output_type": "execute_result"
    }
   ],
   "source": [
    "raw_data.shape"
   ]
  },
  {
   "cell_type": "code",
   "execution_count": 11,
   "metadata": {},
   "outputs": [],
   "source": [
    "train_size = int(0.9 * raw_data.shape[0])\n",
    "train_features = raw[:train_size, :-1].astype('float32')\n",
    "train_labels = raw[:train_size, -1].astype('float32')\n",
    "test_features = raw[train_size:, :-1].astype('float32')\n",
    "test_labels = raw[train_size:, -1].astype('float32')"
   ]
  },
  {
   "cell_type": "code",
   "execution_count": 13,
   "metadata": {},
   "outputs": [
    {
     "data": {
      "text/plain": [
       "(522910, 54)"
      ]
     },
     "execution_count": 13,
     "metadata": {},
     "output_type": "execute_result"
    }
   ],
   "source": [
    "train_features.shape"
   ]
  },
  {
   "cell_type": "code",
   "execution_count": 14,
   "metadata": {},
   "outputs": [
    {
     "data": {
      "text/plain": [
       "(58102, 54)"
      ]
     },
     "execution_count": 14,
     "metadata": {},
     "output_type": "execute_result"
    }
   ],
   "source": [
    "test_features.shape"
   ]
  },
  {
   "cell_type": "code",
   "execution_count": 19,
   "metadata": {},
   "outputs": [],
   "source": [
    "import faiss_knn as fbknn"
   ]
  },
  {
   "cell_type": "code",
   "execution_count": 34,
   "metadata": {},
   "outputs": [],
   "source": [
    "k = 5\n",
    "faissobj = fbknn.FaissKNNImpl(k,faiss)\n",
    "faissobj.fitModel(train_features,train_labels)"
   ]
  },
  {
   "cell_type": "code",
   "execution_count": 35,
   "metadata": {},
   "outputs": [
    {
     "name": "stdout",
     "output_type": "stream",
     "text": [
      "time required for predicting 58102 data point at k = 5: 34.72 seconds\n"
     ]
    }
   ],
   "source": [
    "start_time = time.time()\n",
    "predictions = faissobj.predict(test_features)\n",
    "run_time = time.time() - start_time\n",
    "print('time required for predicting %d data point at k = %d: %.2f seconds' % (test_features.shape[0], k, run_time))"
   ]
  },
  {
   "cell_type": "code",
   "execution_count": 36,
   "metadata": {},
   "outputs": [
    {
     "name": "stdout",
     "output_type": "stream",
     "text": [
      "Accuracy for K = 5 : 64  %\n"
     ]
    }
   ],
   "source": [
    "accuracy = faissobj.getAccuracy(test_labels) \n",
    "print('Accuracy for K = %d : %d ' % (k, accuracy),'%')"
   ]
  },
  {
   "cell_type": "code",
   "execution_count": 37,
   "metadata": {},
   "outputs": [
    {
     "name": "stdout",
     "output_type": "stream",
     "text": [
      "time required for predicting 58102 data point at k = 3: 35.33 seconds\n"
     ]
    }
   ],
   "source": [
    "k = 3\n",
    "faissobj = fbknn.FaissKNNImpl(k,faiss)\n",
    "faissobj.fitModel(train_features,train_labels)\n",
    "start_time = time.time()\n",
    "predictions = faissobj.predict(test_features)\n",
    "run_time = time.time() - start_time\n",
    "print('time required for predicting %d data point at k = %d: %.2f seconds' % (test_features.shape[0], k, run_time))"
   ]
  },
  {
   "cell_type": "code",
   "execution_count": 38,
   "metadata": {},
   "outputs": [
    {
     "name": "stdout",
     "output_type": "stream",
     "text": [
      "Accuracy for K = 3 : 66  %\n"
     ]
    }
   ],
   "source": [
    "accuracy = faissobj.getAccuracy(test_labels) \n",
    "print('Accuracy for K = %d : %d ' % (k, accuracy),'%')"
   ]
  },
  {
   "cell_type": "code",
   "execution_count": null,
   "metadata": {},
   "outputs": [],
   "source": []
  }
 ],
 "metadata": {
  "kernelspec": {
   "display_name": "Python 3",
   "language": "python",
   "name": "python3"
  },
  "language_info": {
   "codemirror_mode": {
    "name": "ipython",
    "version": 3
   },
   "file_extension": ".py",
   "mimetype": "text/x-python",
   "name": "python",
   "nbconvert_exporter": "python",
   "pygments_lexer": "ipython3",
   "version": "3.6.8"
  }
 },
 "nbformat": 4,
 "nbformat_minor": 2
}
