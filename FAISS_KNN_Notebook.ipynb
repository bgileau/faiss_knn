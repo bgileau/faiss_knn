{
 "cells": [
  {
   "cell_type": "markdown",
   "metadata": {},
   "source": [
    "## KNN Model Implementation in python using FAISS library  </font> \n",
    "### source code reference\n",
    "https://github.com/facebookresearch/faiss"
   ]
  },
  {
   "cell_type": "markdown",
   "metadata": {},
   "source": [
    "### KNN Wrapper Class for Predicting K nearest neighors "
   ]
  },
  {
   "cell_type": "code",
   "execution_count": 2,
   "metadata": {},
   "outputs": [],
   "source": [
    "import numpy as np \n",
    "from collections import Counter \n",
    "import os \n",
    "import faiss\n",
    "import time \n",
    " \n",
    "class FaissKNNImpl:\n",
    "    \n",
    "    def __init__(self,k,faiss):\n",
    "        self.k = k # k nearest neighbor value\n",
    "        self.faissIns = faiss # FAISS instance\n",
    "        self.index = 0  \n",
    "        self.train_labels = []  \n",
    "        self.test_label_faiss_output = [] \n",
    "        \n",
    "    def fitModel(self,train_features,train_labels): \n",
    "        self.train_labels = train_labels\n",
    "        self.index = self.faissIns.IndexFlatL2(train_features.shape[1])   # build the index \n",
    "        self.index.add(train_features)       # add vectors to the index\n",
    "        \n",
    "    def predict(self,test_features): \n",
    "        distance, test_features_faiss_Index = self.index.search(test_features, self.k) \n",
    "        self.test_label_faiss_output = stats.mode(self.train_labels[test_features_faiss_Index],axis=1)[0]\n",
    "        self.test_label_faiss_output = np.array(self.test_label_faiss_output.ravel())\n",
    "        return self.test_label_faiss_output\n",
    "      \n",
    "    def getAccuracy(self,test_labels):\n",
    "        accuracy = (self.test_label_faiss_output == test_labels).mean() * 100 \n",
    "        return round(accuracy) "
   ]
  },
  {
   "cell_type": "markdown",
   "metadata": {},
   "source": [
    "## Data can be dowloaded from here\n",
    "https://drive.google.com/file/d/1txt-EhdUPXC7w28s4scKVXco9Xla36O2/view?usp=sharing"
   ]
  },
  {
   "cell_type": "code",
   "execution_count": 4,
   "metadata": {},
   "outputs": [
    {
     "name": "stdout",
     "output_type": "stream",
     "text": [
      "Reading raw data from raw/covtype.data.gz\n"
     ]
    }
   ],
   "source": [
    "data_dir = \"raw\" \n",
    "raw_data_file = os.path.join(data_dir, \"covtype.data.gz\")  \n",
    "print(\"Reading raw data from {}\".format(raw_data_file))\n",
    "raw_data = np.loadtxt(raw_data_file, delimiter=',')"
   ]
  },
  {
   "cell_type": "code",
   "execution_count": 5,
   "metadata": {},
   "outputs": [
    {
     "data": {
      "text/plain": [
       "(581012, 55)"
      ]
     },
     "execution_count": 5,
     "metadata": {},
     "output_type": "execute_result"
    }
   ],
   "source": [
    "raw_data.shape"
   ]
  },
  {
   "cell_type": "markdown",
   "metadata": {},
   "source": [
    "## Prepare Training and Test Data using 58k datapoints and 54 features"
   ]
  },
  {
   "cell_type": "code",
   "execution_count": 8,
   "metadata": {},
   "outputs": [],
   "source": [
    "np.random.seed(0)\n",
    "np.random.shuffle(raw_data)\n",
    "train_size = int(0.9 * raw_data.shape[0])\n",
    "train_features = raw_data[:train_size, :-1].astype('float32')\n",
    "train_labels = raw_data[:train_size, -1].astype('float32')\n",
    "test_features = raw_data[train_size:, :-1].astype('float32')\n",
    "test_labels = raw_data[train_size:, -1].astype('float32')"
   ]
  },
  {
   "cell_type": "code",
   "execution_count": 9,
   "metadata": {
    "scrolled": true
   },
   "outputs": [
    {
     "data": {
      "text/plain": [
       "(522910, 54)"
      ]
     },
     "execution_count": 9,
     "metadata": {},
     "output_type": "execute_result"
    }
   ],
   "source": [
    "train_features.shape"
   ]
  },
  {
   "cell_type": "code",
   "execution_count": 10,
   "metadata": {},
   "outputs": [
    {
     "data": {
      "text/plain": [
       "(58102, 54)"
      ]
     },
     "execution_count": 10,
     "metadata": {},
     "output_type": "execute_result"
    }
   ],
   "source": [
    "test_features.shape"
   ]
  },
  {
   "cell_type": "code",
   "execution_count": 11,
   "metadata": {},
   "outputs": [],
   "source": [
    "import faiss_knn as fbknn"
   ]
  },
  {
   "cell_type": "markdown",
   "metadata": {},
   "source": [
    "## Train FAISS KNN model with k = 5"
   ]
  },
  {
   "cell_type": "code",
   "execution_count": 12,
   "metadata": {},
   "outputs": [
    {
     "name": "stdout",
     "output_type": "stream",
     "text": [
      "time required for training 522910 data points at k = 5: 0.10 seconds\n"
     ]
    }
   ],
   "source": [
    "k = 5\n",
    "start_time = time.time()\n",
    "faissobj = fbknn.FaissKNNImpl(k,faiss)\n",
    "faissobj.fitModel(train_features,train_labels)\n",
    "run_time = time.time() - start_time\n",
    "print('time required for training %d data points at k = %d: %.2f seconds' % (train_features.shape[0], k , run_time))"
   ]
  },
  {
   "cell_type": "code",
   "execution_count": 13,
   "metadata": {},
   "outputs": [
    {
     "name": "stdout",
     "output_type": "stream",
     "text": [
      "time required for predicting 58102 data point at k = 5: 49.89 seconds\n"
     ]
    }
   ],
   "source": [
    "# start_time = time.time()\n",
    "predictions = faissobj.predict(test_features)\n",
    "run_time = time.time() - start_time\n",
    "print('time required for predicting %d data point at k = %d: %.2f seconds' % (test_features.shape[0], k, run_time))"
   ]
  },
  {
   "cell_type": "code",
   "execution_count": 14,
   "metadata": {},
   "outputs": [
    {
     "name": "stdout",
     "output_type": "stream",
     "text": [
      "Accuracy for K = 5 : 97  %\n"
     ]
    }
   ],
   "source": [
    "accuracy = faissobj.getAccuracy(test_labels) \n",
    "print('Accuracy for K = %d : %d ' % (k, accuracy),'%')"
   ]
  },
  {
   "cell_type": "markdown",
   "metadata": {},
   "source": [
    "### <font color=red>Accuracy for K = 5 : 97  % </font>  "
   ]
  },
  {
   "cell_type": "code",
   "execution_count": 15,
   "metadata": {},
   "outputs": [
    {
     "name": "stdout",
     "output_type": "stream",
     "text": [
      "              precision    recall  f1-score   support\n",
      "\n",
      "     class 1       0.97      0.97      0.97     20980\n",
      "     class 2       0.97      0.98      0.97     28463\n",
      "     class 3       0.97      0.97      0.97      3589\n",
      "     class 4       0.94      0.83      0.88       279\n",
      "     class 5       0.92      0.90      0.91       999\n",
      "     class 6       0.95      0.94      0.94      1768\n",
      "     class 7       0.98      0.97      0.97      2024\n",
      "\n",
      "   micro avg       0.97      0.97      0.97     58102\n",
      "   macro avg       0.95      0.93      0.94     58102\n",
      "weighted avg       0.97      0.97      0.97     58102\n",
      "\n"
     ]
    }
   ],
   "source": [
    "from sklearn.metrics import classification_report\n",
    "y_true = test_labels\n",
    "y_pred = predictions\n",
    "target_names = ['class 1', 'class 2', 'class 3','class 4', 'class 5', 'class 6','class 7']\n",
    "print(classification_report(y_true, y_pred, target_names=target_names)) "
   ]
  },
  {
   "cell_type": "markdown",
   "metadata": {},
   "source": [
    "## Train FAISS KNN model with k = 10"
   ]
  },
  {
   "cell_type": "code",
   "execution_count": 19,
   "metadata": {},
   "outputs": [
    {
     "name": "stdout",
     "output_type": "stream",
     "text": [
      "time required for training 522910 data point at k = 10: 0.05 seconds\n"
     ]
    }
   ],
   "source": [
    "k = 10\n",
    "start_time = time.time()\n",
    "faissobj = fbknn.FaissKNNImpl(k,faiss)\n",
    "faissobj.fitModel(train_features,train_labels)\n",
    "run_time = time.time() - start_time\n",
    "print('time required for training %d data point at k = %d: %.2f seconds' % (train_features.shape[0], k, run_time))"
   ]
  },
  {
   "cell_type": "code",
   "execution_count": 20,
   "metadata": {},
   "outputs": [
    {
     "name": "stdout",
     "output_type": "stream",
     "text": [
      "time required for predicting 58102 data point at k = 10: 42.15 seconds\n"
     ]
    }
   ],
   "source": [
    "start_time = time.time()\n",
    "predictions = faissobj.predict(test_features)\n",
    "run_time = time.time() - start_time\n",
    "print('time required for predicting %d data point at k = %d: %.2f seconds' % (test_features.shape[0], k, run_time))"
   ]
  },
  {
   "cell_type": "code",
   "execution_count": 21,
   "metadata": {},
   "outputs": [
    {
     "name": "stdout",
     "output_type": "stream",
     "text": [
      "Accuracy for K = 10 : 96  %\n"
     ]
    }
   ],
   "source": [
    "accuracy = faissobj.getAccuracy(test_labels) \n",
    "print('Accuracy for K = %d : %d ' % (k, accuracy),'%')"
   ]
  },
  {
   "cell_type": "markdown",
   "metadata": {},
   "source": [
    "### <font color=red>Accuracy for K = 10 : 96  % </font>  "
   ]
  },
  {
   "cell_type": "code",
   "execution_count": null,
   "metadata": {},
   "outputs": [],
   "source": []
  }
 ],
 "metadata": {
  "kernelspec": {
   "display_name": "Python 3",
   "language": "python",
   "name": "python3"
  },
  "language_info": {
   "codemirror_mode": {
    "name": "ipython",
    "version": 3
   },
   "file_extension": ".py",
   "mimetype": "text/x-python",
   "name": "python",
   "nbconvert_exporter": "python",
   "pygments_lexer": "ipython3",
   "version": "3.6.8"
  }
 },
 "nbformat": 4,
 "nbformat_minor": 2
}
